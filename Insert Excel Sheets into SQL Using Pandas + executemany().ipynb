{
 "cells": [
  {
   "cell_type": "markdown",
   "id": "9eeadebf-313d-47bf-9727-6c80f7c1a560",
   "metadata": {},
   "source": [
    "# 📥 Insert Excel Sheets into SQL Using Pandas + executemany()"
   ]
  },
  {
   "cell_type": "markdown",
   "id": "b8faa690-08f0-464c-84ff-538eb0b71068",
   "metadata": {},
   "source": [
    "### Step 1: Import Libraries"
   ]
  },
  {
   "cell_type": "code",
   "execution_count": null,
   "id": "1dbe6623-ff63-46aa-ac8d-ad0b22b67cc1",
   "metadata": {},
   "outputs": [],
   "source": [
    "import pandas as pd \n",
    "import sqlite3 "
   ]
  },
  {
   "cell_type": "markdown",
   "id": "29c70deb-02b2-454d-a9d8-9258c4f69fac",
   "metadata": {},
   "source": [
    "###  Step 2: Load Excel file with multiple sheets"
   ]
  },
  {
   "cell_type": "code",
   "execution_count": 30,
   "id": "36a60172-1113-4b7f-9e6a-13cd01e600c8",
   "metadata": {},
   "outputs": [],
   "source": [
    "excel_file = 'sample_sales_data.xlsx' \n",
    "xls = pd.read_excel(excel_file, sheet_name=None) "
   ]
  },
  {
   "cell_type": "markdown",
   "id": "a937abbf-009c-46fa-be73-a0bcbe3390b8",
   "metadata": {},
   "source": [
    "### Step 3: Connect to SQLite database (or create one)"
   ]
  },
  {
   "cell_type": "code",
   "execution_count": 35,
   "id": "dea21df3-260b-4a61-b69d-1e7d83129749",
   "metadata": {},
   "outputs": [],
   "source": [
    "conn = sqlite3.connect('excel_to_sql.db')\n",
    "cursor = conn.cursor()"
   ]
  },
  {
   "cell_type": "markdown",
   "id": "e3aeec2d-ad6d-4d3d-96cd-ef976f286d6e",
   "metadata": {},
   "source": [
    "### Step 4: Loop through each sheet and Insert data"
   ]
  },
  {
   "cell_type": "code",
   "execution_count": 37,
   "id": "10496187-c9f6-457b-860e-818fd15dfb6a",
   "metadata": {},
   "outputs": [],
   "source": [
    "for raw_sheet_name, df in xls.items():\n",
    "    sheet_name = raw_sheet_name.strip().replace(\" \", \"_\")"
   ]
  },
  {
   "cell_type": "markdown",
   "id": "b4847bfb-a075-4223-aecb-b03a772ceb3b",
   "metadata": {},
   "source": [
    "### Step 4a: Create a Matching SQL Table"
   ]
  },
  {
   "cell_type": "code",
   "execution_count": 39,
   "id": "6907e749-7782-4b54-bf2a-37a08972275c",
   "metadata": {},
   "outputs": [
    {
     "data": {
      "text/plain": [
       "<sqlite3.Cursor at 0x1fef096c9c0>"
      ]
     },
     "execution_count": 39,
     "metadata": {},
     "output_type": "execute_result"
    }
   ],
   "source": [
    "columns = ', '.join([f'\"{col}\" TEXT' for col in df.columns])\n",
    "create_table_sql = f'CREATE TABLE IF NOT EXISTS \"{sheet_name}\" ({columns});'\n",
    "cursor.execute(create_table_sql)"
   ]
  },
  {
   "cell_type": "markdown",
   "id": "b33e1889-733b-451d-97fc-139b8c4b91e3",
   "metadata": {},
   "source": [
    "### Step 4b: Prepare Data for SQL"
   ]
  },
  {
   "cell_type": "code",
   "execution_count": 41,
   "id": "6ee7066b-4f1e-43ae-b55a-afd97cf462d9",
   "metadata": {},
   "outputs": [],
   "source": [
    "data = df.astype(str).values.tolist()"
   ]
  },
  {
   "cell_type": "markdown",
   "id": "1bd4be6c-c862-4396-9f27-8d2a65b30b5d",
   "metadata": {},
   "source": [
    "### Step 4c: Insert Data Using executemany()"
   ]
  },
  {
   "cell_type": "code",
   "execution_count": 47,
   "id": "1b4e0873-71fd-4494-9c25-c5d90d58d4c1",
   "metadata": {},
   "outputs": [
    {
     "data": {
      "text/plain": [
       "<sqlite3.Cursor at 0x1fef096c9c0>"
      ]
     },
     "execution_count": 47,
     "metadata": {},
     "output_type": "execute_result"
    }
   ],
   "source": [
    "placeholders = ', '.join(['?'] * len(df.columns))\n",
    "insert_slq = f'INSERT INTO \"{sheet_name}\" VALUES ({placeholders});'\n",
    "cursor.execute(\"PRAGMA busy_timeout = 5000;\")\n",
    "cursor.executemany(insert_sql, data)"
   ]
  },
  {
   "cell_type": "markdown",
   "id": "f42ef417-b6b7-4d66-858a-7345ba4d979a",
   "metadata": {},
   "source": [
    "### Step 5: View Tables in the Database"
   ]
  },
  {
   "cell_type": "code",
   "execution_count": 49,
   "id": "37e4d5c1-2efb-4e1b-89db-e133fec00d70",
   "metadata": {},
   "outputs": [
    {
     "name": "stdout",
     "output_type": "stream",
     "text": [
      "Tables in database: [('Sales',), ('Inventory',), ('Employees',)]\n"
     ]
    }
   ],
   "source": [
    "cursor.execute(\"SELECT name FROM sqlite_master WHERE type='table';\")\n",
    "tables = cursor.fetchall()\n",
    "print(\"Tables in database:\", tables)"
   ]
  },
  {
   "cell_type": "markdown",
   "id": "10f107f5-5b0a-404d-861f-47f6bf598db8",
   "metadata": {},
   "source": [
    "### Step 6: Preview the Data from All Tables"
   ]
  },
  {
   "cell_type": "code",
   "execution_count": 51,
   "id": "768e21e6-bcc0-4c1d-b829-6eb2a2fcc570",
   "metadata": {},
   "outputs": [
    {
     "name": "stdout",
     "output_type": "stream",
     "text": [
      "         Date     Product Quantity    Price\n",
      "0  2024-01-01      Laptop        2    557.0\n",
      "1  2024-01-02      Tablet        5   1200.0\n",
      "2  2024-01-03     Monitor        3    800.0\n",
      "3  2024-01-04  Smartphone        1   1200.0\n",
      "4  2024-01-05      Laptop        2  1855.84\n",
      "  Item ID   Item Name In Stock Restock Date\n",
      "0     101      Laptop      100   2024-04-02\n",
      "1     102      Tablet       50   2024-01-15\n",
      "2     103     Monitor       80   2024-03-28\n",
      "3     104  Smartphone       45   2024-08-05\n",
      "4     105  Smartwatch       90   2024-11-06\n",
      "  Employee ID           Name        Department  Start Date\n",
      "0           1  Alice Johnson             Sales  2022-01-06\n",
      "1           2      Bob Smith           Support  2023-03-15\n",
      "2           3   Carmen Reyes         Inventory  2022-11-20\n",
      "3           4       Flounder             Sales  2009-03-05\n",
      "4           5          Pluto  Customer Service  2024-03-20\n"
     ]
    }
   ],
   "source": [
    "for table in tables: \n",
    "    table_name = table[0]\n",
    "    df = pd.read_sql_query(f'SELECT * FROM \"{table_name}\"', conn)\n",
    "    print(df.head())"
   ]
  },
  {
   "cell_type": "markdown",
   "id": "00514fc0-988a-4a35-b296-fdb9619a97b4",
   "metadata": {},
   "source": [
    "### Step 7: Save and Close the Connection"
   ]
  },
  {
   "cell_type": "code",
   "execution_count": 53,
   "id": "edb040c2-65e7-4ab1-840e-f8ffb153b374",
   "metadata": {},
   "outputs": [],
   "source": [
    "conn.commit()\n",
    "conn.close()"
   ]
  },
  {
   "cell_type": "markdown",
   "id": "7c22915a-f9a3-4cd9-8578-22c9b6b52504",
   "metadata": {},
   "source": [
    "THE END"
   ]
  },
  {
   "cell_type": "markdown",
   "id": "5729a66b-bbb6-446d-9f4a-8fdf046daefd",
   "metadata": {},
   "source": [
    "## Watch the Full Tutorial\n",
    "\n",
    "📺  Watch the tutorial for this co\n",
    "👉 Follw me here on Youtube: (https://www.youtube.com/@DataGeeksMyName)\n",
    "\n",
    "---\n",
    "\n",
    "## ☕ Support My Channel\n",
    "\n",
    "If you enjoy this content and want to support more beginner tutorials:  \n",
    "👉 "
   ]
  }
 ],
 "metadata": {
  "kernelspec": {
   "display_name": "Python 3 (ipykernel)",
   "language": "python",
   "name": "python3"
  },
  "language_info": {
   "codemirror_mode": {
    "name": "ipython",
    "version": 3
   },
   "file_extension": ".py",
   "mimetype": "text/x-python",
   "name": "python",
   "nbconvert_exporter": "python",
   "pygments_lexer": "ipython3",
   "version": "3.12.7"
  }
 },
 "nbformat": 4,
 "nbformat_minor": 5
}
